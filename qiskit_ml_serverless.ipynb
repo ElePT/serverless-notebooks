{
 "cells": [
  {
   "cell_type": "markdown",
   "metadata": {
    "slideshow": {
     "slide_type": "slide"
    }
   },
   "source": [
    "# Qiskit Machine Learning + Serverless"
   ]
  },
  {
   "cell_type": "code",
   "execution_count": null,
   "metadata": {},
   "outputs": [],
   "source": [
    "# assume some given dataset\n",
    "train_dataset = ..."
   ]
  },
  {
   "cell_type": "code",
   "execution_count": null,
   "metadata": {},
   "outputs": [],
   "source": [
    "# specify required classical compute resources\n",
    "num_cpus = 10\n",
    "num_gpus = 20\n",
    "ram = 100\n",
    "\n",
    "# specify type of required quantum compute resources\n",
    "# could be done via criteria for a filter, a list of acceptable device names, etc.\n",
    "# can be actual devices or \"virtual\" devices (partitioning)\n",
    "qpu_a = {min_num_qubits: 10, min_qv: 16}\n",
    "qpu_b = {min_qv: 32, coupling_map: {...}}\n",
    "qpu_c = {names: ['ibm_sherbrooke']}\n",
    "\n",
    "# specify required quantum compute resources\n",
    "qpus = {qpu_a: 10, qpu_b: 20, qpu_c: ...}"
   ]
  },
  {
   "cell_type": "code",
   "execution_count": null,
   "metadata": {},
   "outputs": [],
   "source": [
    "# request compute resources\n",
    "serverless = QuantumServerless({\n",
    "    ...,                                     \n",
    "    'num_cpus': num_cpus,\n",
    "    'num_gpus': num_gpus,\n",
    "    'ram': ram,\n",
    "    'qpus': qpus\n",
    "})"
   ]
  },
  {
   "cell_type": "code",
   "execution_count": null,
   "metadata": {
    "slideshow": {
     "slide_type": "slide"
    }
   },
   "outputs": [],
   "source": [
    "def create_model(sampler):\n",
    "    # create a QNN using the sampler and return it\n",
    "    # this defines the actual hybrid quantum/classical model\n",
    "    return TorchConnector(SamplerQNN(..., sampler))    "
   ]
  },
  {
   "cell_type": "code",
   "execution_count": null,
   "metadata": {},
   "outputs": [],
   "source": [
    "@run_qiskit_remote(target={'cpu': 2, 'gpus': 4, 'qpus': {qpu_a: 2, qpu_b: 4}, 'ram': 20})\n",
    "def train_function(target):\n",
    "\n",
    "    # get assigned quantum resources\n",
    "    qpus_a = target['qpus'][qpu_a]\n",
    "    qpus_b = target['qpus'][qpu_b]\n",
    "    \n",
    "    # get fraction of training data\n",
    "    dataset_shard = session.get_dataset_shard(\"train\")\n",
    "    \n",
    "    # setup model\n",
    "    sampler = CuttingSampler(     # these don't exist yet, just to illustrate how this may be used\n",
    "        ThreadedSampler(qpus_a),  # exact design and what will be passed along to be decided...\n",
    "        ThreadedSampler(qpus_b)\n",
    "    )    \n",
    "    model = create_model(sampler) \n",
    "    model = train.torch.prepare_model(model)\n",
    "\n",
    "    # run training epochs for given data\n",
    "    # ...\n",
    "    for e in range(num_epochs):\n",
    "        # train..."
   ]
  },
  {
   "cell_type": "code",
   "execution_count": null,
   "metadata": {
    "slideshow": {
     "slide_type": "slide"
    }
   },
   "outputs": [],
   "source": [
    "from ray.air import ScalingConfig\n",
    "from ray.train.torch import TorchTrainer\n",
    "\n",
    "torch_trainer = TorchTrainer(\n",
    "                train_function,\n",
    "                scaling_config=ScalingConfig(use_gpu=True, use_qpu=True, num_workers=5),\n",
    "                datasets={\"train\": train_dataset},\n",
    "            )\n",
    "\n",
    "results = torch_trainer.fit()"
   ]
  },
  {
   "cell_type": "code",
   "execution_count": null,
   "metadata": {},
   "outputs": [],
   "source": []
  }
 ],
 "metadata": {
  "celltoolbar": "Slideshow",
  "kernelspec": {
   "display_name": "Python [conda env:qiskit-p3.9]",
   "language": "python",
   "name": "conda-env-qiskit-p3.9-py"
  },
  "language_info": {
   "codemirror_mode": {
    "name": "ipython",
    "version": 3
   },
   "file_extension": ".py",
   "mimetype": "text/x-python",
   "name": "python",
   "nbconvert_exporter": "python",
   "pygments_lexer": "ipython3",
   "version": "3.9.12"
  }
 },
 "nbformat": 4,
 "nbformat_minor": 2
}
