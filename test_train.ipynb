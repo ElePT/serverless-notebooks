{
 "cells": [
  {
   "cell_type": "code",
   "execution_count": 13,
   "metadata": {
    "collapsed": true
   },
   "outputs": [],
   "source": [
    "import ray\n",
    "import torch\n",
    "from qiskit_ibm_runtime import QiskitRuntimeService, Estimator\n",
    "from ray import train\n",
    "from ray.air import session\n",
    "from torch import nn\n",
    "\n",
    "from qiskit.circuit.library import ZZFeatureMap, RealAmplitudes\n",
    "from qiskit import QuantumCircuit\n",
    "from qiskit_machine_learning.neural_networks import EstimatorQNN\n",
    "from qiskit_machine_learning.connectors import TorchConnector\n",
    "\n",
    "from quantum_serverless.train.trainer import (\n",
    "    QiskitScalingConfig,\n",
    "    QiskitTorchTrainer,\n",
    "    get_runtime_session,\n",
    ")"
   ]
  },
  {
   "cell_type": "code",
   "execution_count": 14,
   "outputs": [],
   "source": [
    "INPUT_SIZE = 1\n",
    "LAYER_SIZE = 2\n",
    "OUTPUT_SIZE = 1\n",
    "NUM_EPOCHS = 1"
   ],
   "metadata": {
    "collapsed": false,
    "pycharm": {
     "name": "#%%\n"
    }
   }
  },
  {
   "cell_type": "code",
   "execution_count": 15,
   "outputs": [],
   "source": [
    "def create_qnn(session, layer_size):\n",
    "    feature_map = ZZFeatureMap(layer_size)\n",
    "    ansatz = RealAmplitudes(layer_size, reps=1)\n",
    "\n",
    "    qc = QuantumCircuit(layer_size)\n",
    "    qc.append(feature_map, range(layer_size))\n",
    "    qc.append(ansatz, range(layer_size))\n",
    "\n",
    "    qnn = EstimatorQNN(\n",
    "        estimator=Estimator(session=session),\n",
    "        circuit=qc,\n",
    "        input_params=feature_map.parameters,\n",
    "        weight_params=ansatz.parameters,\n",
    "        input_gradients=True\n",
    "    )\n",
    "    return TorchConnector(qnn)"
   ],
   "metadata": {
    "collapsed": false,
    "pycharm": {
     "name": "#%%\n"
    }
   }
  },
  {
   "cell_type": "code",
   "execution_count": 16,
   "outputs": [],
   "source": [
    "class NeuralNetwork(nn.Module):\n",
    "    \"\"\"Test neural network.\"\"\"\n",
    "\n",
    "    def __init__(self):\n",
    "        super().__init__()\n",
    "        self.layer1 = nn.Linear(INPUT_SIZE, LAYER_SIZE)\n",
    "        self.relu = nn.ReLU()\n",
    "        self.layer2 = nn.Linear(LAYER_SIZE, OUTPUT_SIZE)\n",
    "\n",
    "    def forward(self, input_tensor):\n",
    "        \"\"\"Forward pass.\"\"\"\n",
    "        return self.layer2(self.relu(self.layer1(input_tensor)))"
   ],
   "metadata": {
    "collapsed": false,
    "pycharm": {
     "name": "#%%\n"
    }
   }
  },
  {
   "cell_type": "code",
   "execution_count": 17,
   "outputs": [],
   "source": [
    "class HybridQNN(nn.Module):\n",
    "    \"\"\"Test neural network.\"\"\"\n",
    "\n",
    "    def __init__(self, session):\n",
    "        super().__init__()\n",
    "        self.layer1 = nn.Linear(INPUT_SIZE, LAYER_SIZE)\n",
    "        self.relu = nn.ReLU()\n",
    "        self.qnn = create_qnn(session, LAYER_SIZE)\n",
    "\n",
    "    def forward(self, input_tensor):\n",
    "        \"\"\"Forward pass.\"\"\"\n",
    "        x = self.relu(self.layer1(input_tensor))\n",
    "        x = self.qnn(x)\n",
    "        return x"
   ],
   "metadata": {
    "collapsed": false,
    "pycharm": {
     "name": "#%%\n"
    }
   }
  },
  {
   "cell_type": "code",
   "execution_count": 18,
   "outputs": [],
   "source": [
    "def train_loop(config):\n",
    "    \"\"\"Test training loop.\"\"\"\n",
    "    runtime_session = get_runtime_session(config)\n",
    "    print(\"Session\", runtime_session)\n",
    "\n",
    "    is_qnn = config.get(\"is_qnn\")\n",
    "    dataset_shard = session.get_dataset_shard(\"train\")\n",
    "    loss_fn = nn.MSELoss()\n",
    "\n",
    "    print(\"DS Shard: \", dataset_shard)\n",
    "\n",
    "    if is_qnn:\n",
    "        model = HybridQNN(runtime_session)\n",
    "    else:\n",
    "        model = NeuralNetwork()\n",
    "\n",
    "    print(\"Model: \", model)\n",
    "    optimizer = torch.optim.SGD(model.parameters(), lr=0.1)\n",
    "\n",
    "    model = train.torch.prepare_model(model)\n",
    "\n",
    "    for epoch in range(NUM_EPOCHS):\n",
    "        print(\"Epoch: \", epoch)\n",
    "        for batches in dataset_shard.iter_torch_batches(batch_size=1, dtypes=torch.float):\n",
    "            inputs, labels = torch.unsqueeze(batches[\"x\"], 1), batches[\"y\"]\n",
    "            print(\"inputs, labels: \", inputs, labels)\n",
    "            output = model(inputs)\n",
    "            print(\"output: \", output)\n",
    "            loss = loss_fn(output, labels)\n",
    "            optimizer.zero_grad()\n",
    "            loss.backward()\n",
    "            optimizer.step()\n",
    "            print(f\"epoch: {epoch}, loss: {loss.item()}\")"
   ],
   "metadata": {
    "collapsed": false,
    "pycharm": {
     "name": "#%%\n"
    }
   }
  },
  {
   "cell_type": "code",
   "execution_count": 19,
   "outputs": [],
   "source": [
    "from tokens import Tokens\n",
    "API_TOKEN = Tokens.API_TOKEN[0]\n",
    "QiskitRuntimeService.save_account(channel=\"ibm_quantum\",\n",
    "                                  token=API_TOKEN,\n",
    "                                  overwrite=True)"
   ],
   "metadata": {
    "collapsed": false,
    "pycharm": {
     "name": "#%%\n"
    }
   }
  },
  {
   "cell_type": "code",
   "execution_count": 20,
   "outputs": [],
   "source": [
    "\"\"\"Tests trainer.\"\"\"\n",
    "train_dataset = ray.data.from_items(\n",
    "    [{\"x\": x, \"y\": 2 * x + 1} for x in range(2)]\n",
    ")"
   ],
   "metadata": {
    "collapsed": false,
    "pycharm": {
     "name": "#%%\n"
    }
   }
  },
  {
   "cell_type": "code",
   "execution_count": 21,
   "outputs": [],
   "source": [
    "scaling_config = QiskitScalingConfig(num_workers=1, num_qubits=1, simulator=True)"
   ],
   "metadata": {
    "collapsed": false,
    "pycharm": {
     "name": "#%%\n"
    }
   }
  },
  {
   "cell_type": "code",
   "execution_count": 22,
   "outputs": [
    {
     "name": "stdout",
     "output_type": "stream",
     "text": [
      "runtime service:  <QiskitRuntimeService>\n"
     ]
    }
   ],
   "source": [
    "runtime_service = QiskitRuntimeService(channel=\"ibm_quantum\")\n",
    "print(\"runtime service: \", runtime_service)"
   ],
   "metadata": {
    "collapsed": false,
    "pycharm": {
     "name": "#%%\n"
    }
   }
  },
  {
   "cell_type": "code",
   "execution_count": 23,
   "outputs": [],
   "source": [
    "trainer = QiskitTorchTrainer(\n",
    "    train_loop_per_worker=train_loop,\n",
    "    qiskit_runtime_service_account=runtime_service.active_account(),\n",
    "    scaling_config=scaling_config,\n",
    "    datasets={\"train\": train_dataset},\n",
    "    train_loop_config={\"is_qnn\": True},\n",
    ")"
   ],
   "metadata": {
    "collapsed": false,
    "pycharm": {
     "name": "#%%\n"
    }
   }
  },
  {
   "cell_type": "code",
   "execution_count": 24,
   "outputs": [
    {
     "data": {
      "text/plain": "<IPython.core.display.HTML object>",
      "text/html": ""
     },
     "metadata": {},
     "output_type": "display_data"
    },
    {
     "name": "stderr",
     "output_type": "stream",
     "text": [
      "\u001B[2m\u001B[36m(RayTrainWorker pid=76949)\u001B[0m 2023-01-26 15:42:19,519\tINFO config.py:86 -- Setting up process group for: env:// [rank=0, world_size=1]\n"
     ]
    },
    {
     "name": "stdout",
     "output_type": "stream",
     "text": [
      "\u001B[2m\u001B[36m(RayTrainWorker pid=76949)\u001B[0m Getting runtime session\n",
      "\u001B[2m\u001B[36m(RayTrainWorker pid=76949)\u001B[0m Backend name:  ibmq_qasm_simulator\n",
      "\u001B[2m\u001B[36m(RayTrainWorker pid=76949)\u001B[0m Session <qiskit_ibm_runtime.session.Session object at 0x7fb1a0452ac0>\n",
      "\u001B[2m\u001B[36m(RayTrainWorker pid=76949)\u001B[0m DS Shard:  Dataset(num_blocks=2, num_rows=2, schema={x: int64, y: int64})\n",
      "\u001B[2m\u001B[36m(RayTrainWorker pid=76949)\u001B[0m Model:  HybridQNN(\n",
      "\u001B[2m\u001B[36m(RayTrainWorker pid=76949)\u001B[0m   (layer1): Linear(in_features=1, out_features=2, bias=True)\n",
      "\u001B[2m\u001B[36m(RayTrainWorker pid=76949)\u001B[0m   (relu): ReLU()\n",
      "\u001B[2m\u001B[36m(RayTrainWorker pid=76949)\u001B[0m   (qnn): TorchConnector()\n",
      "\u001B[2m\u001B[36m(RayTrainWorker pid=76949)\u001B[0m )\n",
      "\u001B[2m\u001B[36m(RayTrainWorker pid=76949)\u001B[0m Epoch:  0\n",
      "\u001B[2m\u001B[36m(RayTrainWorker pid=76949)\u001B[0m inputs, labels:  tensor([[0.]]) tensor([1.])\n"
     ]
    },
    {
     "name": "stderr",
     "output_type": "stream",
     "text": [
      "\u001B[2m\u001B[36m(RayTrainWorker pid=76949)\u001B[0m 2023-01-26 15:42:26,739\tINFO train_loop_utils.py:270 -- Moving model to device: cpu\n",
      "\u001B[2m\u001B[36m(RayTrainWorker pid=76949)\u001B[0m runtime_job._start_websocket_client:WARNING:2023-01-26 15:42:52,151: An error occurred while streaming results from the server for job cf992lapm2vc8eqhgqjg:\n",
      "\u001B[2m\u001B[36m(RayTrainWorker pid=76949)\u001B[0m Traceback (most recent call last):\n",
      "\u001B[2m\u001B[36m(RayTrainWorker pid=76949)\u001B[0m   File \"/opt/anaconda3/envs/ray_train/lib/python3.9/site-packages/qiskit_ibm_runtime/runtime_job.py\", line 454, in _start_websocket_client\n",
      "\u001B[2m\u001B[36m(RayTrainWorker pid=76949)\u001B[0m     self._ws_client.job_results()\n",
      "\u001B[2m\u001B[36m(RayTrainWorker pid=76949)\u001B[0m   File \"/opt/anaconda3/envs/ray_train/lib/python3.9/site-packages/qiskit_ibm_runtime/api/clients/runtime_ws.py\", line 70, in job_results\n",
      "\u001B[2m\u001B[36m(RayTrainWorker pid=76949)\u001B[0m     self.stream(url=url, retries=max_retries, backoff_factor=backoff_factor)\n",
      "\u001B[2m\u001B[36m(RayTrainWorker pid=76949)\u001B[0m   File \"/opt/anaconda3/envs/ray_train/lib/python3.9/site-packages/qiskit_ibm_runtime/api/clients/base.py\", line 230, in stream\n",
      "\u001B[2m\u001B[36m(RayTrainWorker pid=76949)\u001B[0m     raise WebsocketError(error_message)\n",
      "\u001B[2m\u001B[36m(RayTrainWorker pid=76949)\u001B[0m qiskit_ibm_runtime.api.exceptions.WebsocketError: 'Max retries exceeded: Failed to establish a websocket connection.'\n",
      "\u001B[2m\u001B[36m(RayTrainWorker pid=76949)\u001B[0m \n"
     ]
    },
    {
     "name": "stdout",
     "output_type": "stream",
     "text": [
      "\u001B[2m\u001B[36m(RayTrainWorker pid=76949)\u001B[0m output:  tensor([[0.4675]], grad_fn=<_TorchNNFunctionBackward>)\n"
     ]
    },
    {
     "name": "stderr",
     "output_type": "stream",
     "text": [
      "\u001B[2m\u001B[36m(RayTrainWorker pid=76949)\u001B[0m /opt/anaconda3/envs/ray_train/lib/python3.9/site-packages/torch/nn/modules/loss.py:536: UserWarning: Using a target size (torch.Size([1])) that is different to the input size (torch.Size([1, 1])). This will likely lead to incorrect results due to broadcasting. Please ensure they have the same size.\n",
      "\u001B[2m\u001B[36m(RayTrainWorker pid=76949)\u001B[0m   return F.mse_loss(input, target, reduction=self.reduction)\n",
      "\u001B[2m\u001B[36m(RayTrainWorker pid=76949)\u001B[0m runtime_job._start_websocket_client:WARNING:2023-01-26 15:43:22,259: An error occurred while streaming results from the server for job cf992rbrtkrl1nfrsrbg:\n",
      "\u001B[2m\u001B[36m(RayTrainWorker pid=76949)\u001B[0m Traceback (most recent call last):\n",
      "\u001B[2m\u001B[36m(RayTrainWorker pid=76949)\u001B[0m   File \"/opt/anaconda3/envs/ray_train/lib/python3.9/site-packages/qiskit_ibm_runtime/runtime_job.py\", line 454, in _start_websocket_client\n",
      "\u001B[2m\u001B[36m(RayTrainWorker pid=76949)\u001B[0m     self._ws_client.job_results()\n",
      "\u001B[2m\u001B[36m(RayTrainWorker pid=76949)\u001B[0m   File \"/opt/anaconda3/envs/ray_train/lib/python3.9/site-packages/qiskit_ibm_runtime/api/clients/runtime_ws.py\", line 70, in job_results\n",
      "\u001B[2m\u001B[36m(RayTrainWorker pid=76949)\u001B[0m     self.stream(url=url, retries=max_retries, backoff_factor=backoff_factor)\n",
      "\u001B[2m\u001B[36m(RayTrainWorker pid=76949)\u001B[0m   File \"/opt/anaconda3/envs/ray_train/lib/python3.9/site-packages/qiskit_ibm_runtime/api/clients/base.py\", line 230, in stream\n",
      "\u001B[2m\u001B[36m(RayTrainWorker pid=76949)\u001B[0m     raise WebsocketError(error_message)\n",
      "\u001B[2m\u001B[36m(RayTrainWorker pid=76949)\u001B[0m qiskit_ibm_runtime.api.exceptions.WebsocketError: 'Max retries exceeded: Failed to establish a websocket connection.'\n",
      "\u001B[2m\u001B[36m(RayTrainWorker pid=76949)\u001B[0m \n"
     ]
    },
    {
     "name": "stdout",
     "output_type": "stream",
     "text": [
      "\u001B[2m\u001B[36m(RayTrainWorker pid=76949)\u001B[0m epoch: 0, loss: 0.2835562825202942\n",
      "\u001B[2m\u001B[36m(RayTrainWorker pid=76949)\u001B[0m inputs, labels:  tensor([[1.]]) tensor([3.])\n"
     ]
    },
    {
     "name": "stderr",
     "output_type": "stream",
     "text": [
      "\u001B[2m\u001B[36m(RayTrainWorker pid=76949)\u001B[0m runtime_job._start_websocket_client:WARNING:2023-01-26 15:43:48,066: An error occurred while streaming results from the server for job cf99336pkn0k7a2c1f80:\n",
      "\u001B[2m\u001B[36m(RayTrainWorker pid=76949)\u001B[0m Traceback (most recent call last):\n",
      "\u001B[2m\u001B[36m(RayTrainWorker pid=76949)\u001B[0m   File \"/opt/anaconda3/envs/ray_train/lib/python3.9/site-packages/qiskit_ibm_runtime/runtime_job.py\", line 454, in _start_websocket_client\n",
      "\u001B[2m\u001B[36m(RayTrainWorker pid=76949)\u001B[0m     self._ws_client.job_results()\n",
      "\u001B[2m\u001B[36m(RayTrainWorker pid=76949)\u001B[0m   File \"/opt/anaconda3/envs/ray_train/lib/python3.9/site-packages/qiskit_ibm_runtime/api/clients/runtime_ws.py\", line 70, in job_results\n",
      "\u001B[2m\u001B[36m(RayTrainWorker pid=76949)\u001B[0m     self.stream(url=url, retries=max_retries, backoff_factor=backoff_factor)\n",
      "\u001B[2m\u001B[36m(RayTrainWorker pid=76949)\u001B[0m   File \"/opt/anaconda3/envs/ray_train/lib/python3.9/site-packages/qiskit_ibm_runtime/api/clients/base.py\", line 230, in stream\n",
      "\u001B[2m\u001B[36m(RayTrainWorker pid=76949)\u001B[0m     raise WebsocketError(error_message)\n",
      "\u001B[2m\u001B[36m(RayTrainWorker pid=76949)\u001B[0m qiskit_ibm_runtime.api.exceptions.WebsocketError: 'Max retries exceeded: Failed to establish a websocket connection.'\n",
      "\u001B[2m\u001B[36m(RayTrainWorker pid=76949)\u001B[0m \n"
     ]
    },
    {
     "name": "stdout",
     "output_type": "stream",
     "text": [
      "\u001B[2m\u001B[36m(RayTrainWorker pid=76949)\u001B[0m output:  tensor([[0.5030]], grad_fn=<_TorchNNFunctionBackward>)\n"
     ]
    },
    {
     "name": "stderr",
     "output_type": "stream",
     "text": [
      "\u001B[2m\u001B[36m(RayTrainWorker pid=76949)\u001B[0m /opt/anaconda3/envs/ray_train/lib/python3.9/site-packages/torch/nn/modules/loss.py:536: UserWarning: Using a target size (torch.Size([1])) that is different to the input size (torch.Size([1, 1])). This will likely lead to incorrect results due to broadcasting. Please ensure they have the same size.\n",
      "\u001B[2m\u001B[36m(RayTrainWorker pid=76949)\u001B[0m   return F.mse_loss(input, target, reduction=self.reduction)\n",
      "\u001B[2m\u001B[36m(RayTrainWorker pid=76949)\u001B[0m runtime_job._start_websocket_client:WARNING:2023-01-26 15:44:14,647: An error occurred while streaming results from the server for job cf9939efcb1mov6bv0gg:\n",
      "\u001B[2m\u001B[36m(RayTrainWorker pid=76949)\u001B[0m Traceback (most recent call last):\n",
      "\u001B[2m\u001B[36m(RayTrainWorker pid=76949)\u001B[0m   File \"/opt/anaconda3/envs/ray_train/lib/python3.9/site-packages/qiskit_ibm_runtime/runtime_job.py\", line 454, in _start_websocket_client\n",
      "\u001B[2m\u001B[36m(RayTrainWorker pid=76949)\u001B[0m     self._ws_client.job_results()\n",
      "\u001B[2m\u001B[36m(RayTrainWorker pid=76949)\u001B[0m   File \"/opt/anaconda3/envs/ray_train/lib/python3.9/site-packages/qiskit_ibm_runtime/api/clients/runtime_ws.py\", line 70, in job_results\n",
      "\u001B[2m\u001B[36m(RayTrainWorker pid=76949)\u001B[0m     self.stream(url=url, retries=max_retries, backoff_factor=backoff_factor)\n",
      "\u001B[2m\u001B[36m(RayTrainWorker pid=76949)\u001B[0m   File \"/opt/anaconda3/envs/ray_train/lib/python3.9/site-packages/qiskit_ibm_runtime/api/clients/base.py\", line 230, in stream\n",
      "\u001B[2m\u001B[36m(RayTrainWorker pid=76949)\u001B[0m     raise WebsocketError(error_message)\n",
      "\u001B[2m\u001B[36m(RayTrainWorker pid=76949)\u001B[0m qiskit_ibm_runtime.api.exceptions.WebsocketError: 'Max retries exceeded: Failed to establish a websocket connection.'\n",
      "\u001B[2m\u001B[36m(RayTrainWorker pid=76949)\u001B[0m \n"
     ]
    },
    {
     "name": "stdout",
     "output_type": "stream",
     "text": [
      "\u001B[2m\u001B[36m(RayTrainWorker pid=76949)\u001B[0m epoch: 0, loss: 6.235008716583252\n"
     ]
    },
    {
     "name": "stderr",
     "output_type": "stream",
     "text": [
      "2023-01-26 15:44:18,435\tERROR checkpoint_manager.py:327 -- Result dict has no key: training_iteration. checkpoint_score_attr must be set to a key in the result dict. Valid keys are: ['trial_id', 'experiment_id', 'date', 'timestamp', 'pid', 'hostname', 'node_ip', 'done']\n"
     ]
    },
    {
     "name": "stdout",
     "output_type": "stream",
     "text": [
      "Trial QiskitTorchTrainer_95998_00000 completed. Last result: \n"
     ]
    },
    {
     "name": "stderr",
     "output_type": "stream",
     "text": [
      "2023-01-26 15:44:18,549\tINFO tune.py:762 -- Total run time: 141.11 seconds (141.00 seconds for the tuning loop).\n"
     ]
    },
    {
     "data": {
      "text/plain": "Result(metrics={'trial_id': '95998_00000', 'done': True}, error=None, log_dir=PosixPath('/Users/ept/ray_results/QiskitTorchTrainer_2023-01-26_15-41-57/QiskitTorchTrainer_95998_00000_0_2023-01-26_15-41-57'))"
     },
     "execution_count": 24,
     "metadata": {},
     "output_type": "execute_result"
    }
   ],
   "source": [
    "trainer.fit()"
   ],
   "metadata": {
    "collapsed": false,
    "pycharm": {
     "name": "#%%\n"
    }
   }
  },
  {
   "cell_type": "code",
   "execution_count": 24,
   "outputs": [],
   "source": [],
   "metadata": {
    "collapsed": false,
    "pycharm": {
     "name": "#%%\n"
    }
   }
  }
 ],
 "metadata": {
  "kernelspec": {
   "name": "ray_train",
   "language": "python",
   "display_name": "ray_train"
  },
  "language_info": {
   "codemirror_mode": {
    "name": "ipython",
    "version": 2
   },
   "file_extension": ".py",
   "mimetype": "text/x-python",
   "name": "python",
   "nbconvert_exporter": "python",
   "pygments_lexer": "ipython2",
   "version": "2.7.6"
  }
 },
 "nbformat": 4,
 "nbformat_minor": 0
}