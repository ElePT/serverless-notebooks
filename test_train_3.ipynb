{
 "cells": [
  {
   "cell_type": "code",
   "execution_count": 4,
   "metadata": {
    "collapsed": true
   },
   "outputs": [],
   "source": [
    "import ray\n",
    "import torch\n",
    "from qiskit_ibm_runtime import QiskitRuntimeService, Estimator\n",
    "from ray import train\n",
    "from ray.air import session\n",
    "from torch import nn\n",
    "\n",
    "from qiskit.circuit.library import ZZFeatureMap, RealAmplitudes\n",
    "from qiskit import QuantumCircuit\n",
    "from qiskit_machine_learning.neural_networks import EstimatorQNN\n",
    "from qiskit_machine_learning.connectors import TorchConnector\n",
    "\n",
    "from quantum_serverless.train.trainer import (\n",
    "    QiskitScalingConfig,\n",
    "    QiskitTorchTrainer,\n",
    "    get_runtime_session,\n",
    ")"
   ]
  },
  {
   "cell_type": "code",
   "execution_count": 5,
   "outputs": [
    {
     "name": "stdout",
     "output_type": "stream",
     "text": [
      "(1000, 785)\n",
      "(1000, 1, 28, 28)\n"
     ]
    }
   ],
   "source": [
    "import numpy as np\n",
    "import pandas as pd\n",
    "\n",
    "data = pd.read_csv('./data/mnist-train.csv')\n",
    "data = np.array(data)\n",
    "data_binary = data[np.where(data[:,0]<2)[0]]\n",
    "\n",
    "rows, cols = data_binary.shape\n",
    "np.random.shuffle(data_binary)\n",
    "\n",
    "#separate train data\n",
    "train_data = data_binary[1000:2000].T\n",
    "train_data[1:] = train_data[1:]/255. # normalizing pixels\n",
    "train_data = train_data.T\n",
    "print(train_data.shape)\n",
    "\n",
    "#separate train data\n",
    "dev_data = data_binary[:1000].T\n",
    "dev_data[1:] = dev_data[1:]/255. # normalizing pixels\n",
    "dev_labels = dev_data[0]\n",
    "dev_data = dev_data[1:].T.reshape(-1, 1, 28, 28).astype(np.float32)\n",
    "print(dev_data.shape)"
   ],
   "metadata": {
    "collapsed": false,
    "pycharm": {
     "name": "#%%\n"
    }
   }
  },
  {
   "cell_type": "code",
   "execution_count": 8,
   "outputs": [],
   "source": [
    "import ray\n",
    "train_ds = ray.data.from_numpy(train_data)\n",
    "dev_ds = ray.data.from_numpy(dev_data)"
   ],
   "metadata": {
    "collapsed": false,
    "pycharm": {
     "name": "#%%\n"
    }
   }
  },
  {
   "cell_type": "code",
   "execution_count": 9,
   "outputs": [],
   "source": [
    "INPUT_SIZE = 1\n",
    "LAYER_SIZE = 2\n",
    "OUTPUT_SIZE = 1\n",
    "NUM_EPOCHS = 30"
   ],
   "metadata": {
    "collapsed": false,
    "pycharm": {
     "name": "#%%\n"
    }
   }
  },
  {
   "cell_type": "markdown",
   "source": [],
   "metadata": {
    "collapsed": false
   }
  },
  {
   "cell_type": "code",
   "execution_count": 10,
   "outputs": [],
   "source": [
    "def create_qnn(session, layer_size):\n",
    "    feature_map = ZZFeatureMap(layer_size)\n",
    "    ansatz = RealAmplitudes(layer_size, reps=1)\n",
    "\n",
    "    qc = QuantumCircuit(layer_size)\n",
    "    qc.append(feature_map, range(layer_size))\n",
    "    qc.append(ansatz, range(layer_size))\n",
    "\n",
    "    qnn = EstimatorQNN(\n",
    "        estimator=Estimator(session=session),\n",
    "        circuit=qc,\n",
    "        input_params=feature_map.parameters,\n",
    "        weight_params=ansatz.parameters,\n",
    "        input_gradients=True\n",
    "    )\n",
    "    return TorchConnector(qnn)"
   ],
   "metadata": {
    "collapsed": false,
    "pycharm": {
     "name": "#%%\n"
    }
   }
  },
  {
   "cell_type": "code",
   "execution_count": 11,
   "outputs": [],
   "source": [
    "class NeuralNetwork(nn.Module):\n",
    "    \"\"\"Test neural network.\"\"\"\n",
    "\n",
    "    def __init__(self):\n",
    "        super().__init__()\n",
    "        self.layer1 = nn.Linear(INPUT_SIZE, LAYER_SIZE)\n",
    "        self.relu = nn.ReLU()\n",
    "        self.layer2 = nn.Linear(LAYER_SIZE, OUTPUT_SIZE)\n",
    "\n",
    "    def forward(self, input_tensor):\n",
    "        \"\"\"Forward pass.\"\"\"\n",
    "        return self.layer2(self.relu(self.layer1(input_tensor)))"
   ],
   "metadata": {
    "collapsed": false,
    "pycharm": {
     "name": "#%%\n"
    }
   }
  },
  {
   "cell_type": "code",
   "execution_count": 12,
   "outputs": [],
   "source": [
    "class HybridQNN(nn.Module):\n",
    "    \"\"\"Test neural network.\"\"\"\n",
    "\n",
    "    def __init__(self, session):\n",
    "        super().__init__()\n",
    "        self.layer1 = nn.Linear(INPUT_SIZE, LAYER_SIZE)\n",
    "        self.relu = nn.ReLU()\n",
    "        self.qnn = create_qnn(session, LAYER_SIZE)\n",
    "\n",
    "    def forward(self, input_tensor):\n",
    "        \"\"\"Forward pass.\"\"\"\n",
    "        x = self.relu(self.layer1(input_tensor))\n",
    "        x = self.qnn(x)\n",
    "        return x"
   ],
   "metadata": {
    "collapsed": false,
    "pycharm": {
     "name": "#%%\n"
    }
   }
  },
  {
   "cell_type": "code",
   "execution_count": 18,
   "outputs": [],
   "source": [
    "def train_loop(config):\n",
    "    \"\"\"Test training loop.\"\"\"\n",
    "    runtime_session = get_runtime_session(config)\n",
    "    print(\"Session\", runtime_session)\n",
    "\n",
    "    is_qnn = config.get(\"is_qnn\")\n",
    "    dataset_shard = session.get_dataset_shard(\"train\")\n",
    "    loss_fn = nn.MSELoss()\n",
    "\n",
    "    print(\"DS Shard: \", dataset_shard)\n",
    "\n",
    "    if is_qnn:\n",
    "        model = HybridQNN(runtime_session)\n",
    "    else:\n",
    "        model = NeuralNetwork()\n",
    "\n",
    "    print(\"Model: \", model)\n",
    "    optimizer = torch.optim.SGD(model.parameters(), lr=0.1)\n",
    "\n",
    "    model = train.torch.prepare_model(model)\n",
    "\n",
    "    for epoch in range(NUM_EPOCHS):\n",
    "        for batch in dataset_shard.iter_torch_batches(batch_size=32, dtypes=torch.float):\n",
    "            labels = torch.from_numpy(batch[:,0]).long()\n",
    "            inputs = torch.from_numpy(batch[:,1:].reshape(-1, 1, 28, 28)).float()\n",
    "            # inputs, labels = torch.unsqueeze(batches[\"x\"], 1), batches[\"y\"]\n",
    "            output = model(inputs)\n",
    "            loss = loss_fn(output, labels)\n",
    "            optimizer.zero_grad()\n",
    "            loss.backward()\n",
    "            optimizer.step()\n",
    "            print(f\"epoch: {epoch}, loss: {loss.item()}\")"
   ],
   "metadata": {
    "collapsed": false,
    "pycharm": {
     "name": "#%%\n"
    }
   }
  },
  {
   "cell_type": "code",
   "execution_count": 19,
   "outputs": [],
   "source": [
    "from tokens import Tokens\n",
    "API_TOKEN = Tokens.API_TOKEN[0]\n",
    "QiskitRuntimeService.save_account(channel=\"ibm_quantum\",\n",
    "                                  token=API_TOKEN,\n",
    "                                  overwrite=True)"
   ],
   "metadata": {
    "collapsed": false,
    "pycharm": {
     "name": "#%%\n"
    }
   }
  },
  {
   "cell_type": "code",
   "execution_count": 20,
   "outputs": [],
   "source": [
    "\"\"\"Tests trainer.\"\"\"\n",
    "train_dataset = ray.data.from_items(\n",
    "    [{\"x\": x, \"y\": 2 * x + 1} for x in range(200)]\n",
    ")"
   ],
   "metadata": {
    "collapsed": false,
    "pycharm": {
     "name": "#%%\n"
    }
   }
  },
  {
   "cell_type": "code",
   "execution_count": 21,
   "outputs": [],
   "source": [
    "scaling_config = QiskitScalingConfig(num_workers=2, num_qubits=2, simulator=True)"
   ],
   "metadata": {
    "collapsed": false,
    "pycharm": {
     "name": "#%%\n"
    }
   }
  },
  {
   "cell_type": "code",
   "execution_count": 22,
   "outputs": [
    {
     "name": "stdout",
     "output_type": "stream",
     "text": [
      "runtime service:  <QiskitRuntimeService>\n"
     ]
    }
   ],
   "source": [
    "runtime_service = QiskitRuntimeService(channel=\"ibm_quantum\")\n",
    "print(\"runtime service: \", runtime_service)"
   ],
   "metadata": {
    "collapsed": false,
    "pycharm": {
     "name": "#%%\n"
    }
   }
  },
  {
   "cell_type": "code",
   "execution_count": 23,
   "outputs": [],
   "source": [
    "trainer = QiskitTorchTrainer(\n",
    "    train_loop_per_worker=train_loop,\n",
    "    qiskit_runtime_service_account=runtime_service.active_account(),\n",
    "    scaling_config=scaling_config,\n",
    "    datasets={\"train\": train_ds},\n",
    "    train_loop_config={\"is_qnn\": True},\n",
    ")"
   ],
   "metadata": {
    "collapsed": false,
    "pycharm": {
     "name": "#%%\n"
    }
   }
  },
  {
   "cell_type": "code",
   "execution_count": null,
   "outputs": [
    {
     "name": "stderr",
     "output_type": "stream",
     "text": [
      "\u001B[2m\u001B[36m(RayTrainWorker pid=77522)\u001B[0m runtime_job._start_websocket_client:WARNING:2023-01-26 16:12:42,976: An error occurred while streaming results from the server for job cf99gkepkn0k7a2c4os0:\n",
      "\u001B[2m\u001B[36m(RayTrainWorker pid=77522)\u001B[0m Traceback (most recent call last):\n",
      "\u001B[2m\u001B[36m(RayTrainWorker pid=77522)\u001B[0m   File \"/opt/anaconda3/envs/ray_train/lib/python3.9/site-packages/qiskit_ibm_runtime/runtime_job.py\", line 454, in _start_websocket_client\n",
      "\u001B[2m\u001B[36m(RayTrainWorker pid=77522)\u001B[0m     self._ws_client.job_results()\n",
      "\u001B[2m\u001B[36m(RayTrainWorker pid=77522)\u001B[0m   File \"/opt/anaconda3/envs/ray_train/lib/python3.9/site-packages/qiskit_ibm_runtime/api/clients/runtime_ws.py\", line 70, in job_results\n",
      "\u001B[2m\u001B[36m(RayTrainWorker pid=77522)\u001B[0m     self.stream(url=url, retries=max_retries, backoff_factor=backoff_factor)\n",
      "\u001B[2m\u001B[36m(RayTrainWorker pid=77522)\u001B[0m   File \"/opt/anaconda3/envs/ray_train/lib/python3.9/site-packages/qiskit_ibm_runtime/api/clients/base.py\", line 230, in stream\n",
      "\u001B[2m\u001B[36m(RayTrainWorker pid=77522)\u001B[0m     raise WebsocketError(error_message)\n",
      "\u001B[2m\u001B[36m(RayTrainWorker pid=77522)\u001B[0m qiskit_ibm_runtime.api.exceptions.WebsocketError: 'Max retries exceeded: Failed to establish a websocket connection.'\n",
      "\u001B[2m\u001B[36m(RayTrainWorker pid=77522)\u001B[0m \n",
      "\u001B[2m\u001B[36m(RayTrainWorker pid=77520)\u001B[0m runtime_job._start_websocket_client:WARNING:2023-01-26 16:12:43,094: An error occurred while streaming results from the server for job cf99gkd99i9qt7infu70:\n",
      "\u001B[2m\u001B[36m(RayTrainWorker pid=77520)\u001B[0m Traceback (most recent call last):\n",
      "\u001B[2m\u001B[36m(RayTrainWorker pid=77520)\u001B[0m   File \"/opt/anaconda3/envs/ray_train/lib/python3.9/site-packages/qiskit_ibm_runtime/runtime_job.py\", line 454, in _start_websocket_client\n",
      "\u001B[2m\u001B[36m(RayTrainWorker pid=77520)\u001B[0m     self._ws_client.job_results()\n",
      "\u001B[2m\u001B[36m(RayTrainWorker pid=77520)\u001B[0m   File \"/opt/anaconda3/envs/ray_train/lib/python3.9/site-packages/qiskit_ibm_runtime/api/clients/runtime_ws.py\", line 70, in job_results\n",
      "\u001B[2m\u001B[36m(RayTrainWorker pid=77520)\u001B[0m     self.stream(url=url, retries=max_retries, backoff_factor=backoff_factor)\n",
      "\u001B[2m\u001B[36m(RayTrainWorker pid=77520)\u001B[0m   File \"/opt/anaconda3/envs/ray_train/lib/python3.9/site-packages/qiskit_ibm_runtime/api/clients/base.py\", line 230, in stream\n",
      "\u001B[2m\u001B[36m(RayTrainWorker pid=77520)\u001B[0m     raise WebsocketError(error_message)\n",
      "\u001B[2m\u001B[36m(RayTrainWorker pid=77520)\u001B[0m qiskit_ibm_runtime.api.exceptions.WebsocketError: 'Max retries exceeded: Failed to establish a websocket connection.'\n",
      "\u001B[2m\u001B[36m(RayTrainWorker pid=77520)\u001B[0m \n",
      "\u001B[2m\u001B[36m(RayTrainWorker pid=77522)\u001B[0m /opt/anaconda3/envs/ray_train/lib/python3.9/site-packages/torch/nn/modules/loss.py:536: UserWarning: Using a target size (torch.Size([32])) that is different to the input size (torch.Size([32, 1])). This will likely lead to incorrect results due to broadcasting. Please ensure they have the same size.\n",
      "\u001B[2m\u001B[36m(RayTrainWorker pid=77522)\u001B[0m   return F.mse_loss(input, target, reduction=self.reduction)\n",
      "\u001B[2m\u001B[36m(RayTrainWorker pid=77520)\u001B[0m /opt/anaconda3/envs/ray_train/lib/python3.9/site-packages/torch/nn/modules/loss.py:536: UserWarning: Using a target size (torch.Size([32])) that is different to the input size (torch.Size([32, 1])). This will likely lead to incorrect results due to broadcasting. Please ensure they have the same size.\n",
      "\u001B[2m\u001B[36m(RayTrainWorker pid=77520)\u001B[0m   return F.mse_loss(input, target, reduction=self.reduction)\n",
      "\u001B[2m\u001B[36m(RayTrainWorker pid=77520)\u001B[0m runtime_job._start_websocket_client:WARNING:2023-01-26 16:13:36,692: An error occurred while streaming results from the server for job cf99grapm2vc8eqhkalg:\n",
      "\u001B[2m\u001B[36m(RayTrainWorker pid=77520)\u001B[0m Traceback (most recent call last):\n",
      "\u001B[2m\u001B[36m(RayTrainWorker pid=77520)\u001B[0m   File \"/opt/anaconda3/envs/ray_train/lib/python3.9/site-packages/qiskit_ibm_runtime/runtime_job.py\", line 454, in _start_websocket_client\n",
      "\u001B[2m\u001B[36m(RayTrainWorker pid=77520)\u001B[0m     self._ws_client.job_results()\n",
      "\u001B[2m\u001B[36m(RayTrainWorker pid=77520)\u001B[0m   File \"/opt/anaconda3/envs/ray_train/lib/python3.9/site-packages/qiskit_ibm_runtime/api/clients/runtime_ws.py\", line 70, in job_results\n",
      "\u001B[2m\u001B[36m(RayTrainWorker pid=77520)\u001B[0m     self.stream(url=url, retries=max_retries, backoff_factor=backoff_factor)\n",
      "\u001B[2m\u001B[36m(RayTrainWorker pid=77520)\u001B[0m   File \"/opt/anaconda3/envs/ray_train/lib/python3.9/site-packages/qiskit_ibm_runtime/api/clients/base.py\", line 230, in stream\n",
      "\u001B[2m\u001B[36m(RayTrainWorker pid=77520)\u001B[0m     raise WebsocketError(error_message)\n",
      "\u001B[2m\u001B[36m(RayTrainWorker pid=77520)\u001B[0m qiskit_ibm_runtime.api.exceptions.WebsocketError: 'Max retries exceeded: Failed to establish a websocket connection.'\n",
      "\u001B[2m\u001B[36m(RayTrainWorker pid=77520)\u001B[0m \n",
      "\u001B[2m\u001B[36m(RayTrainWorker pid=77522)\u001B[0m runtime_job._start_websocket_client:WARNING:2023-01-26 16:13:38,637: An error occurred while streaming results from the server for job cf99gr3rtkrl1nfrvqv0:\n",
      "\u001B[2m\u001B[36m(RayTrainWorker pid=77522)\u001B[0m Traceback (most recent call last):\n",
      "\u001B[2m\u001B[36m(RayTrainWorker pid=77522)\u001B[0m   File \"/opt/anaconda3/envs/ray_train/lib/python3.9/site-packages/qiskit_ibm_runtime/runtime_job.py\", line 454, in _start_websocket_client\n",
      "\u001B[2m\u001B[36m(RayTrainWorker pid=77522)\u001B[0m     self._ws_client.job_results()\n",
      "\u001B[2m\u001B[36m(RayTrainWorker pid=77522)\u001B[0m   File \"/opt/anaconda3/envs/ray_train/lib/python3.9/site-packages/qiskit_ibm_runtime/api/clients/runtime_ws.py\", line 70, in job_results\n",
      "\u001B[2m\u001B[36m(RayTrainWorker pid=77522)\u001B[0m     self.stream(url=url, retries=max_retries, backoff_factor=backoff_factor)\n",
      "\u001B[2m\u001B[36m(RayTrainWorker pid=77522)\u001B[0m   File \"/opt/anaconda3/envs/ray_train/lib/python3.9/site-packages/qiskit_ibm_runtime/api/clients/base.py\", line 230, in stream\n",
      "\u001B[2m\u001B[36m(RayTrainWorker pid=77522)\u001B[0m     raise WebsocketError(error_message)\n",
      "\u001B[2m\u001B[36m(RayTrainWorker pid=77522)\u001B[0m qiskit_ibm_runtime.api.exceptions.WebsocketError: 'Max retries exceeded: Failed to establish a websocket connection.'\n",
      "\u001B[2m\u001B[36m(RayTrainWorker pid=77522)\u001B[0m \n",
      "\u001B[2m\u001B[36m(RayTrainWorker pid=77520)\u001B[0m runtime_job._start_websocket_client:WARNING:2023-01-26 16:13:58,710: An error occurred while streaming results from the server for job cf99grn9amjev3ll3rjg:\n",
      "\u001B[2m\u001B[36m(RayTrainWorker pid=77520)\u001B[0m Traceback (most recent call last):\n",
      "\u001B[2m\u001B[36m(RayTrainWorker pid=77520)\u001B[0m   File \"/opt/anaconda3/envs/ray_train/lib/python3.9/site-packages/qiskit_ibm_runtime/runtime_job.py\", line 454, in _start_websocket_client\n",
      "\u001B[2m\u001B[36m(RayTrainWorker pid=77520)\u001B[0m     self._ws_client.job_results()\n",
      "\u001B[2m\u001B[36m(RayTrainWorker pid=77520)\u001B[0m   File \"/opt/anaconda3/envs/ray_train/lib/python3.9/site-packages/qiskit_ibm_runtime/api/clients/runtime_ws.py\", line 70, in job_results\n",
      "\u001B[2m\u001B[36m(RayTrainWorker pid=77520)\u001B[0m     self.stream(url=url, retries=max_retries, backoff_factor=backoff_factor)\n",
      "\u001B[2m\u001B[36m(RayTrainWorker pid=77520)\u001B[0m   File \"/opt/anaconda3/envs/ray_train/lib/python3.9/site-packages/qiskit_ibm_runtime/api/clients/base.py\", line 230, in stream\n",
      "\u001B[2m\u001B[36m(RayTrainWorker pid=77520)\u001B[0m     raise WebsocketError(error_message)\n",
      "\u001B[2m\u001B[36m(RayTrainWorker pid=77520)\u001B[0m qiskit_ibm_runtime.api.exceptions.WebsocketError: 'Max retries exceeded: Failed to establish a websocket connection.'\n",
      "\u001B[2m\u001B[36m(RayTrainWorker pid=77520)\u001B[0m \n",
      "\u001B[2m\u001B[36m(RayTrainWorker pid=77522)\u001B[0m runtime_job._start_websocket_client:WARNING:2023-01-26 16:14:00,496: An error occurred while streaming results from the server for job cf99grd99i9qt7ing0c0:\n",
      "\u001B[2m\u001B[36m(RayTrainWorker pid=77522)\u001B[0m Traceback (most recent call last):\n",
      "\u001B[2m\u001B[36m(RayTrainWorker pid=77522)\u001B[0m   File \"/opt/anaconda3/envs/ray_train/lib/python3.9/site-packages/qiskit_ibm_runtime/runtime_job.py\", line 454, in _start_websocket_client\n",
      "\u001B[2m\u001B[36m(RayTrainWorker pid=77522)\u001B[0m     self._ws_client.job_results()\n",
      "\u001B[2m\u001B[36m(RayTrainWorker pid=77522)\u001B[0m   File \"/opt/anaconda3/envs/ray_train/lib/python3.9/site-packages/qiskit_ibm_runtime/api/clients/runtime_ws.py\", line 70, in job_results\n",
      "\u001B[2m\u001B[36m(RayTrainWorker pid=77522)\u001B[0m     self.stream(url=url, retries=max_retries, backoff_factor=backoff_factor)\n",
      "\u001B[2m\u001B[36m(RayTrainWorker pid=77522)\u001B[0m   File \"/opt/anaconda3/envs/ray_train/lib/python3.9/site-packages/qiskit_ibm_runtime/api/clients/base.py\", line 230, in stream\n",
      "\u001B[2m\u001B[36m(RayTrainWorker pid=77522)\u001B[0m     raise WebsocketError(error_message)\n",
      "\u001B[2m\u001B[36m(RayTrainWorker pid=77522)\u001B[0m qiskit_ibm_runtime.api.exceptions.WebsocketError: 'Max retries exceeded: Failed to establish a websocket connection.'\n",
      "\u001B[2m\u001B[36m(RayTrainWorker pid=77522)\u001B[0m \n"
     ]
    }
   ],
   "source": [
    "trainer.fit()"
   ],
   "metadata": {
    "collapsed": false,
    "pycharm": {
     "name": "#%%\n",
     "is_executing": true
    }
   }
  },
  {
   "cell_type": "code",
   "execution_count": 12,
   "outputs": [],
   "source": [],
   "metadata": {
    "collapsed": false,
    "pycharm": {
     "name": "#%%\n"
    }
   }
  }
 ],
 "metadata": {
  "kernelspec": {
   "name": "ray_train",
   "language": "python",
   "display_name": "ray_train"
  },
  "language_info": {
   "codemirror_mode": {
    "name": "ipython",
    "version": 2
   },
   "file_extension": ".py",
   "mimetype": "text/x-python",
   "name": "python",
   "nbconvert_exporter": "python",
   "pygments_lexer": "ipython2",
   "version": "2.7.6"
  }
 },
 "nbformat": 4,
 "nbformat_minor": 0
}